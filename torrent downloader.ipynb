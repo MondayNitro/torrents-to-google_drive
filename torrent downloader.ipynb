{
  "nbformat": 4,
  "nbformat_minor": 0,
  "metadata": {
    "colab": {
      "name": "Torrents_To_GDrive.ipynb",
      "provenance": [],
      "collapsed_sections": []
    },
    "kernelspec": {
      "name": "python3",
      "display_name": "Python 3"
    }
  },
  "cells": [
    {
      "cell_type": "markdown",
      "metadata": {},
      "source": [
        "Torrents To Google Drive Downloader"
      ]
    },
    {
      "cell_type": "markdown",
      "metadata": {},
      "source": [
        "Mount Google Drive"
      ]
    },
    {
      "cell_type": "code",
      "metadata": {},
      "source": [
        "from google.colab import drive\n",
        "drive.mount('/content/drive')"
      ],
      "execution_count": null,
      "outputs": []
    },
    {
      "cell_type": "markdown",
      "metadata": {},
      "source": [
        "Install libtorrent"
      ]
    },
    {
      "cell_type": "code",
      "metadata": {},
      "source": [
        "!pip install libtorrent"
      ],
      "execution_count": null,
      "outputs": []
    },
    {
      "cell_type": "markdown",
      "metadata": {},
      "source": [
        "Paste Magnet Link"
      ]
    },
    {
      "cell_type": "code",
      "metadata": {},
      "source": [
        "link = input(\"Paste your torrent/magnet link here:\\n\")"
      ],
      "execution_count": null,
      "outputs": []
    },
    {
      "cell_type": "markdown",
      "metadata": {},
      "source": [
        "Start Download"
      ]
    },
    {
      "cell_type": "code",
      "metadata": {},
      "source": [
        "import libtorrent as lt\n",
        "import time, datetime, os\n",
        "\n",
        "save_path = '/content/drive/MyDrive/Torrent/'\n",
        "os.makedirs(save_path, exist_ok=True)\n",
        "\n",
        "try:\n",
        "    settings = {\n",
        "      'user_agent': \"libtorrent/2.0\",\n",
	      "    }\n",
        "    ses = lt.session(settings)\n",
        "\n",
        "    params = lt.parse_magnet_uri(link)\n",
        "    params.save_path = save_path\n",
        "    params.storage_mode = lt.storage_mode_t.storage_mode_sparse\n",
        "\n",
        "    handle = ses.add_torrent(params)\n",
        "\n",
        "    print(\"Downloading metadata...\")\n",
        "    while not handle.status().has_metadata:\n",
        "        time.sleep(1)\n",
        "    print(\"Metadata acquired. Starting torrent download...\")\n",
        "\n",
        "    start_time = time.time()\n",
        "    while handle.status().state != lt.torrent_status.seeding:\n",
        "        s = handle.status()\n",
        "        state_map = {\n",
        "          lt.torrent_status.checking_files: \"checking files\",\n",
        "          lt.torrent_status.downloading_metadata: \"downloading metadata\",\n",
        "          lt.torrent_status.downloading: \"downloading\",\n",
        "          lt.torrent_status.finished: \"finished\",\n",
        "          lt.torrent_status.seeding: \"seeding\",\n",
        "        }\n",
        "        print(f\"{s.progress * 100:.2f}% complete (down: {s.download_rate / 1000:.1f} kB/s up: {s.upload_rate / 1000:.1f} kB/s s/l: {s.num_seeds}/{s.num_peers - s.num_seeds}) {state_map.get(s.state, 'unknown')}\")\n",
        "        time.sleep(5)\n",
        "\n",
        "    print(\"\\nDownload complete:\", handle.status().name)\n",
        "    elapsed = int(time.time() - start_time)\n",
        "    print(f\"Elapsed time: {elapsed // 60} min {elapsed % 60} sec\")\n",
        "\n",
        "except Exception as e:\n",
        "    print(\"❌ Error:\", str(e))"
      ],
      "execution_count": null,
      "outputs": []
    }
  ]
}
